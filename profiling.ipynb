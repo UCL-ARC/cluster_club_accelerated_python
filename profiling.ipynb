{
 "cells": [
  {
   "cell_type": "markdown",
   "id": "65023911-dae4-4d91-b105-b02278bdf7cf",
   "metadata": {},
   "source": [
    "# Profiling python code"
   ]
  },
  {
   "cell_type": "code",
   "execution_count": 1,
   "id": "b996f18b-53bd-41c2-8a2e-9b23a8740aa4",
   "metadata": {},
   "outputs": [],
   "source": [
    "import numpy as np"
   ]
  },
  {
   "cell_type": "code",
   "execution_count": 2,
   "id": "6f72aac7-62b4-48c5-a54a-443ae1337732",
   "metadata": {},
   "outputs": [],
   "source": [
    "n = 1000000\n",
    "a = np.random.randn(n)\n",
    "b = np.random.randn(n)\n",
    "c = np.empty(n, dtype='float64')"
   ]
  },
  {
   "cell_type": "code",
   "execution_count": 3,
   "id": "d06ec572-6c6a-4831-bc0d-b58cc5166dfb",
   "metadata": {},
   "outputs": [
    {
     "name": "stdout",
     "output_type": "stream",
     "text": [
      "CPU times: user 3.22 ms, sys: 67 μs, total: 3.29 ms\n",
      "Wall time: 4.44 ms\n"
     ]
    }
   ],
   "source": [
    "%%time\n",
    "c = a + b"
   ]
  },
  {
   "cell_type": "code",
   "execution_count": null,
   "id": "30adba32-d6cc-4f70-b2e4-974180497be6",
   "metadata": {},
   "outputs": [],
   "source": []
  }
 ],
 "metadata": {
  "kernelspec": {
   "display_name": "Python 3 (ipykernel)",
   "language": "python",
   "name": "python3"
  },
  "language_info": {
   "codemirror_mode": {
    "name": "ipython",
    "version": 3
   },
   "file_extension": ".py",
   "mimetype": "text/x-python",
   "name": "python",
   "nbconvert_exporter": "python",
   "pygments_lexer": "ipython3",
   "version": "3.12.4"
  }
 },
 "nbformat": 4,
 "nbformat_minor": 5
}
