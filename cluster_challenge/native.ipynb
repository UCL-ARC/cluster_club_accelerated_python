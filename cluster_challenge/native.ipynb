{
 "cells": [
  {
   "cell_type": "code",
   "execution_count": 18,
   "id": "c37f1c4d-0766-413d-9e00-6810d5c0c5a0",
   "metadata": {},
   "outputs": [],
   "source": [
    "import numpy as np"
   ]
  },
  {
   "cell_type": "code",
   "execution_count": 32,
   "id": "4f127031-9007-4372-9d8f-ce65951fd9b4",
   "metadata": {},
   "outputs": [],
   "source": [
    "N = 100000\n",
    "X_native = range(N)\n",
    "Y_native = range(N)\n",
    "Z_native = [0]*N\n",
    "X_numpy = np.arange(N)\n",
    "Y_numpy = np.arange(N)\n",
    "Z_numpy = np.zeros(N)"
   ]
  },
  {
   "cell_type": "code",
   "execution_count": 35,
   "id": "a86f6066-2ea7-4f49-85c1-de643ad0643e",
   "metadata": {},
   "outputs": [
    {
     "name": "stdout",
     "output_type": "stream",
     "text": [
      "CPU times: user 36.6 ms, sys: 2.73 ms, total: 39.3 ms\n",
      "Wall time: 47.5 ms\n"
     ]
    }
   ],
   "source": [
    "%%time\n",
    "for i in range(N):\n",
    "    Z_native[i] = X_native[i] + Y_native[i]"
   ]
  },
  {
   "cell_type": "code",
   "execution_count": 36,
   "id": "395c7475-3b14-4b13-9943-9a46e64f5b2e",
   "metadata": {},
   "outputs": [
    {
     "name": "stdout",
     "output_type": "stream",
     "text": [
      "CPU times: user 31.5 ms, sys: 4.07 ms, total: 35.6 ms\n",
      "Wall time: 39.8 ms\n"
     ]
    }
   ],
   "source": [
    "%%time\n",
    "Z = [X_native[i] + Y_native[i] for i in range(N)]"
   ]
  },
  {
   "cell_type": "code",
   "execution_count": 31,
   "id": "fef563fb-6a39-497b-96c6-0a1d980f6a2a",
   "metadata": {},
   "outputs": [
    {
     "name": "stdout",
     "output_type": "stream",
     "text": [
      "CPU times: user 142 µs, sys: 8 µs, total: 150 µs\n",
      "Wall time: 154 µs\n"
     ]
    }
   ],
   "source": [
    "%%time\n",
    "Z_numpy = X_numpy + Y_numpy"
   ]
  }
 ],
 "metadata": {
  "kernelspec": {
   "display_name": "Python 3 (ipykernel)",
   "language": "python",
   "name": "python3"
  },
  "language_info": {
   "codemirror_mode": {
    "name": "ipython",
    "version": 3
   },
   "file_extension": ".py",
   "mimetype": "text/x-python",
   "name": "python",
   "nbconvert_exporter": "python",
   "pygments_lexer": "ipython3",
   "version": "3.9.5"
  }
 },
 "nbformat": 4,
 "nbformat_minor": 5
}
