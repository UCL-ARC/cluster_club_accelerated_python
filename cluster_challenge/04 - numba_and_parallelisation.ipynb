{
 "cells": [
  {
   "cell_type": "code",
   "execution_count": 1,
   "id": "069f5771-bf43-4d03-bc8d-53e483d425ca",
   "metadata": {},
   "outputs": [],
   "source": [
    "import numpy as np\n",
    "import numba\n",
    "import time"
   ]
  },
  {
   "cell_type": "code",
   "execution_count": 2,
   "id": "f682915b-16e3-45dc-823a-e677dfdbe677",
   "metadata": {},
   "outputs": [],
   "source": [
    "n = 1000000\n",
    "a = np.random.randn(n)\n",
    "b = np.random.randn(n)\n",
    "c = np.empty(n, dtype='float64')"
   ]
  },
  {
   "cell_type": "code",
   "execution_count": 3,
   "id": "988e1f85-3127-4863-b089-f035a16b2288",
   "metadata": {},
   "outputs": [
    {
     "name": "stdout",
     "output_type": "stream",
     "text": [
      "CPU times: user 53.4 ms, sys: 9.27 ms, total: 62.7 ms\n",
      "Wall time: 62.4 ms\n"
     ]
    }
   ],
   "source": [
    "%%time\n",
    "c = np.cos(a ** 2) + np.sin(b ** 3)"
   ]
  },
  {
   "cell_type": "code",
   "execution_count": 4,
   "id": "203f0a84-90ec-40e1-bc30-5c75afcb6e0c",
   "metadata": {},
   "outputs": [
    {
     "name": "stdout",
     "output_type": "stream",
     "text": [
      "CPU times: user 3.11 s, sys: 20 ms, total: 3.13 s\n",
      "Wall time: 3.19 s\n"
     ]
    }
   ],
   "source": [
    "%%time\n",
    "for i in range(n):\n",
    "    c[i] = np.cos(a[i] ** 2) + np.sin(b[i] ** 3)"
   ]
  },
  {
   "cell_type": "code",
   "execution_count": 5,
   "id": "c65d5ad5-4ae3-4a41-9bc2-438c9669d443",
   "metadata": {},
   "outputs": [
    {
     "name": "stdout",
     "output_type": "stream",
     "text": [
      "CPU times: user 3.05 s, sys: 23.3 ms, total: 3.08 s\n",
      "Wall time: 3.13 s\n"
     ]
    }
   ],
   "source": [
    "%%time\n",
    "def numba_fun(arr1, arr2, arr3):\n",
    "\n",
    "    for i in range(n):\n",
    "        arr3[i] = np.cos(arr1[i] ** 2) + np.sin(arr2[i] ** 3)\n",
    "\n",
    "numba_fun(a, b, c)"
   ]
  },
  {
   "cell_type": "code",
   "execution_count": 6,
   "id": "206880ae-feda-4ce4-bbb5-f79ae0f7e963",
   "metadata": {},
   "outputs": [
    {
     "name": "stdout",
     "output_type": "stream",
     "text": [
      "CPU times: user 358 ms, sys: 53.7 ms, total: 411 ms\n",
      "Wall time: 525 ms\n"
     ]
    }
   ],
   "source": [
    "%%time\n",
    "@numba.njit\n",
    "def numba_fun(arr1, arr2, arr3):\n",
    "\n",
    "    for i in numba.prange(n):\n",
    "        arr3[i] = np.cos(arr1[i] ** 2) + np.sin(arr2[i] ** 3)\n",
    "\n",
    "numba_fun(a, b, c)"
   ]
  },
  {
   "cell_type": "code",
   "execution_count": 7,
   "id": "b2b3c169-b415-478e-8a0d-c9b238fa301f",
   "metadata": {},
   "outputs": [
    {
     "name": "stdout",
     "output_type": "stream",
     "text": [
      "Time after compiling 25 ms\n",
      "Time after compiling 22 ms\n",
      "Time after compiling 22 ms\n",
      "Time after compiling 27 ms\n",
      "Time after compiling 21 ms\n",
      "Time after compiling 21 ms\n",
      "Time after compiling 21 ms\n",
      "Time after compiling 21 ms\n",
      "Time after compiling 21 ms\n",
      "Time after compiling 23 ms\n"
     ]
    }
   ],
   "source": [
    "for i in range(10):\n",
    "    t1 = time.perf_counter()\n",
    "    numba_fun(a, b, c)\n",
    "    t2 = time.perf_counter()\n",
    "    print(f'Time after compiling {round((t2-t1)*1000)} ms')"
   ]
  },
  {
   "cell_type": "code",
   "execution_count": 8,
   "id": "cb6a59b6-1f0c-49ab-9e1b-ae3fc81e9e4d",
   "metadata": {},
   "outputs": [
    {
     "name": "stdout",
     "output_type": "stream",
     "text": [
      "Time first call 348 ms\n",
      "Time after compiling 9 ms\n",
      "Time after compiling 11 ms\n",
      "Time after compiling 9 ms\n",
      "Time after compiling 9 ms\n",
      "Time after compiling 13 ms\n",
      "Time after compiling 12 ms\n",
      "Time after compiling 11 ms\n",
      "Time after compiling 10 ms\n",
      "Time after compiling 10 ms\n",
      "Time after compiling 9 ms\n"
     ]
    }
   ],
   "source": [
    "@numba.njit(parallel=True)\n",
    "def numba_fun(arr1, arr2, arr3):\n",
    "\n",
    "    for i in numba.prange(n):\n",
    "        arr3[i] = np.cos(arr1[i] ** 2) + np.sin(arr2[i] ** 3)\n",
    "\n",
    "t1 = time.perf_counter()\n",
    "numba_fun(a, b, c)\n",
    "t2 = time.perf_counter()\n",
    "print(f'Time first call {round((t2-t1)*1000)} ms')\n",
    "\n",
    "for i in range(10):\n",
    "    t1 = time.perf_counter()\n",
    "    numba_fun(a, b, c)\n",
    "    t2 = time.perf_counter()\n",
    "    print(f'Time after compiling {round((t2-t1)*1000)} ms')"
   ]
  },
  {
   "cell_type": "code",
   "execution_count": null,
   "id": "7dea4b54-36bd-4f16-b762-029fa199517b",
   "metadata": {},
   "outputs": [],
   "source": []
  }
 ],
 "metadata": {
  "kernelspec": {
   "display_name": "Python 3 (ipykernel)",
   "language": "python",
   "name": "python3"
  },
  "language_info": {
   "codemirror_mode": {
    "name": "ipython",
    "version": 3
   },
   "file_extension": ".py",
   "mimetype": "text/x-python",
   "name": "python",
   "nbconvert_exporter": "python",
   "pygments_lexer": "ipython3",
   "version": "3.9.5"
  }
 },
 "nbformat": 4,
 "nbformat_minor": 5
}
