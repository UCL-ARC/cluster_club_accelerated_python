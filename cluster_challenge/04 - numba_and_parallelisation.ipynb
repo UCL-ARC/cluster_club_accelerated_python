{
 "cells": [
  {
   "cell_type": "code",
   "execution_count": 1,
   "id": "069f5771-bf43-4d03-bc8d-53e483d425ca",
   "metadata": {},
   "outputs": [],
   "source": [
    "import numpy as np\n",
    "import numba\n",
    "import time"
   ]
  },
  {
   "cell_type": "code",
   "execution_count": 2,
   "id": "f682915b-16e3-45dc-823a-e677dfdbe677",
   "metadata": {},
   "outputs": [],
   "source": [
    "n = 1000000\n",
    "a = np.random.randn(n)\n",
    "b = np.random.randn(n)\n",
    "c = np.empty(n, dtype='float64')"
   ]
  },
  {
   "cell_type": "code",
   "execution_count": 9,
   "id": "988e1f85-3127-4863-b089-f035a16b2288",
   "metadata": {},
   "outputs": [
    {
     "name": "stdout",
     "output_type": "stream",
     "text": [
      "CPU times: user 2.54 ms, sys: 7.97 ms, total: 10.5 ms\n",
      "Wall time: 12 ms\n"
     ]
    }
   ],
   "source": [
    "%%time\n",
    "c = a + b"
   ]
  },
  {
   "cell_type": "code",
   "execution_count": 12,
   "id": "203f0a84-90ec-40e1-bc30-5c75afcb6e0c",
   "metadata": {},
   "outputs": [
    {
     "name": "stdout",
     "output_type": "stream",
     "text": [
      "CPU times: user 475 ms, sys: 11.9 ms, total: 487 ms\n",
      "Wall time: 486 ms\n"
     ]
    }
   ],
   "source": [
    "%%time\n",
    "for i in range(n):\n",
    "    c[i] = a[i] + b[i]"
   ]
  },
  {
   "cell_type": "code",
   "execution_count": 27,
   "id": "c65d5ad5-4ae3-4a41-9bc2-438c9669d443",
   "metadata": {},
   "outputs": [
    {
     "name": "stdout",
     "output_type": "stream",
     "text": [
      "CPU times: user 382 ms, sys: 16.9 ms, total: 399 ms\n",
      "Wall time: 397 ms\n"
     ]
    }
   ],
   "source": [
    "%%time\n",
    "def numba_fun(in1, in2, out):\n",
    "\n",
    "    for i in range(n):\n",
    "        out[i] = in1[i] + in2[i]\n",
    "\n",
    "numba_fun(a, b, c)"
   ]
  },
  {
   "cell_type": "code",
   "execution_count": 28,
   "id": "206880ae-feda-4ce4-bbb5-f79ae0f7e963",
   "metadata": {},
   "outputs": [
    {
     "name": "stdout",
     "output_type": "stream",
     "text": [
      "CPU times: user 100 ms, sys: 1.03 ms, total: 101 ms\n",
      "Wall time: 99.7 ms\n"
     ]
    }
   ],
   "source": [
    "%%time\n",
    "@numba.njit\n",
    "def numba_fun(in1, in2, out):\n",
    "\n",
    "    for i in numba.prange(n):\n",
    "        out[i] = in1[i] + in2[i]\n",
    "\n",
    "numba_fun(a, b, c)"
   ]
  },
  {
   "cell_type": "code",
   "execution_count": 29,
   "id": "b2b3c169-b415-478e-8a0d-c9b238fa301f",
   "metadata": {},
   "outputs": [
    {
     "name": "stdout",
     "output_type": "stream",
     "text": [
      "Time after compiling 2025 μs\n",
      "Time after compiling 1872 μs\n",
      "Time after compiling 1784 μs\n",
      "Time after compiling 1683 μs\n",
      "Time after compiling 1633 μs\n",
      "Time after compiling 1600 μs\n",
      "Time after compiling 1567 μs\n",
      "Time after compiling 1529 μs\n",
      "Time after compiling 1558 μs\n",
      "Time after compiling 1508 μs\n"
     ]
    }
   ],
   "source": [
    "for i in range(10):\n",
    "    t1 = time.perf_counter_ns()\n",
    "    numba_fun(a, b, c)\n",
    "    t2 = time.perf_counter_ns()\n",
    "    print(f'Time after compiling {round((t2-t1)/1000)} μs')"
   ]
  },
  {
   "cell_type": "code",
   "execution_count": 39,
   "id": "cb6a59b6-1f0c-49ab-9e1b-ae3fc81e9e4d",
   "metadata": {},
   "outputs": [
    {
     "name": "stdout",
     "output_type": "stream",
     "text": [
      "Time first call 386 ms\n",
      "Time after compiling 563 μs\n",
      "Time after compiling 476 μs\n",
      "Time after compiling 435 μs\n",
      "Time after compiling 422 μs\n",
      "Time after compiling 371 μs\n",
      "Time after compiling 403 μs\n",
      "Time after compiling 395 μs\n",
      "Time after compiling 360 μs\n",
      "Time after compiling 340 μs\n",
      "Time after compiling 337 μs\n"
     ]
    }
   ],
   "source": [
    "@numba.njit(parallel=True)\n",
    "def numba_fun(in1, in2, out):\n",
    "\n",
    "    for i in numba.prange(n):\n",
    "        out[i] = in1[i] + in2[i]\n",
    "\n",
    "numba.set_num_threads(4)\n",
    "\n",
    "t1 = time.perf_counter()\n",
    "numba_fun(a, b, c)\n",
    "t2 = time.perf_counter()\n",
    "print(f'Time first call {round((t2-t1)*1000)} ms')\n",
    "\n",
    "for i in range(10):\n",
    "    t1 = time.perf_counter_ns()\n",
    "    numba_fun(a, b, c)\n",
    "    t2 = time.perf_counter_ns()\n",
    "    print(f'Time after compiling {round((t2-t1)/1000)} μs')"
   ]
  },
  {
   "cell_type": "code",
   "execution_count": null,
   "id": "7dea4b54-36bd-4f16-b762-029fa199517b",
   "metadata": {},
   "outputs": [],
   "source": []
  }
 ],
 "metadata": {
  "kernelspec": {
   "display_name": "Python 3",
   "language": "python",
   "name": "python3"
  },
  "language_info": {
   "codemirror_mode": {
    "name": "ipython",
    "version": 3
   },
   "file_extension": ".py",
   "mimetype": "text/x-python",
   "name": "python",
   "nbconvert_exporter": "python",
   "pygments_lexer": "ipython3",
   "version": "3.8.5"
  }
 },
 "nbformat": 4,
 "nbformat_minor": 5
}
