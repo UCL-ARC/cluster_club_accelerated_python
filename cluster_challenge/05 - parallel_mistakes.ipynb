{
 "cells": [
  {
   "cell_type": "markdown",
   "id": "6dfc5734-d6dc-4a03-937c-a79d89d9549b",
   "metadata": {},
   "source": [
    "So what kind of code can be parallelised? It's easier to say what kind of code definitely can't be parallelised. First case: Loops with dependencies"
   ]
  },
  {
   "cell_type": "code",
   "execution_count": 2,
   "id": "68d171b5-8fff-4b89-a3d2-4e01f10cbf21",
   "metadata": {},
   "outputs": [],
   "source": [
    "import numpy as np\n",
    "import numba\n",
    "import time"
   ]
  },
  {
   "cell_type": "code",
   "execution_count": 3,
   "id": "c0672e35-930e-42a4-967c-f6198ab2730e",
   "metadata": {},
   "outputs": [],
   "source": [
    "n = 1000000\n",
    "a = np.random.randn(n)\n",
    "b = np.random.randn(n)\n",
    "\n",
    "c = np.zeros(n, dtype='float64')"
   ]
  },
  {
   "cell_type": "code",
   "execution_count": 8,
   "id": "a8e95e88-3e4a-42be-8d5e-17d3d92127ef",
   "metadata": {},
   "outputs": [
    {
     "name": "stdout",
     "output_type": "stream",
     "text": [
      "CPU times: user 77 ms, sys: 3.31 ms, total: 80.3 ms\n",
      "Wall time: 89.5 ms\n"
     ]
    }
   ],
   "source": [
    "%%time\n",
    "@numba.njit\n",
    "def numba_fun(arr1, arr2):\n",
    "\n",
    "    for i in range(1,n):\n",
    "        arr2[i] = arr2[i-1] + arr1[i] ** 2\n",
    "\n",
    "numba_fun(a, c)"
   ]
  },
  {
   "cell_type": "code",
   "execution_count": 9,
   "id": "b2f89b49-86da-4778-b17d-3281fc9f1ba1",
   "metadata": {},
   "outputs": [
    {
     "name": "stdout",
     "output_type": "stream",
     "text": [
      "CPU times: user 81.2 ms, sys: 4.59 ms, total: 85.8 ms\n",
      "Wall time: 94.8 ms\n"
     ]
    },
    {
     "name": "stderr",
     "output_type": "stream",
     "text": [
      "/Users/tkoskela/opt/miniconda3/lib/python3.9/site-packages/numba/core/typed_passes.py:329: NumbaPerformanceWarning: \n",
      "The keyword argument 'parallel=True' was specified but no transformation for parallel execution was possible.\n",
      "\n",
      "To find out why, try turning on parallel diagnostics, see https://numba.readthedocs.io/en/stable/user/parallel.html#diagnostics for help.\n",
      "\n",
      "File \"<timed exec>\", line 1:\n",
      "<source missing, REPL/exec in use?>\n",
      "\n",
      "  warnings.warn(errors.NumbaPerformanceWarning(msg,\n"
     ]
    }
   ],
   "source": [
    "%%time\n",
    "@numba.njit(parallel=True)\n",
    "def numba_fun(arr1, arr2):\n",
    "\n",
    "    for i in range(1,n):\n",
    "        arr2[i] = arr2[i-1] + arr1[i] ** 2\n",
    "\n",
    "numba_fun(a, c)"
   ]
  },
  {
   "cell_type": "markdown",
   "id": "c44c7b45-ebe2-429e-b248-0a1e9d947076",
   "metadata": {},
   "source": [
    "Second case: Data races"
   ]
  },
  {
   "cell_type": "code",
   "execution_count": 10,
   "id": "c17bec83-c219-4b1d-9196-273e7d690374",
   "metadata": {},
   "outputs": [],
   "source": [
    "@numba.njit(parallel=False)\n",
    "def prange_right_result(x):\n",
    "    n = x.shape[0]\n",
    "    y = np.zeros(4)\n",
    "    for i in numba.prange(n):\n",
    "        # accumulating into the same element of `y` from different\n",
    "        # parallel iterations of the loop results in a race condition\n",
    "        y[:] = y[0] + x[i]\n",
    "        \n",
    "    return y"
   ]
  },
  {
   "cell_type": "code",
   "execution_count": 11,
   "id": "ef737285-2663-44e8-b3a9-c1ce010c121b",
   "metadata": {},
   "outputs": [],
   "source": [
    "@numba.njit(parallel=True)\n",
    "def prange_wrong_result(x):\n",
    "    n = x.shape[0]\n",
    "    y = np.zeros(4)\n",
    "    for i in numba.prange(n):\n",
    "        # accumulating into the same element of `y` from different\n",
    "        # parallel iterations of the loop results in a race condition\n",
    "        y[:] = y[0] + x[i]\n",
    "\n",
    "    return y"
   ]
  },
  {
   "cell_type": "code",
   "execution_count": 12,
   "id": "84403a01-ed05-4c82-8303-de8d738c62bf",
   "metadata": {},
   "outputs": [
    {
     "name": "stdout",
     "output_type": "stream",
     "text": [
      "[508.01446498 508.19639403 508.05990544 508.21107149]\n",
      "[2.29270284 2.47463189 2.3381433  2.48930935]\n"
     ]
    }
   ],
   "source": [
    "x = np.random.rand(1000,4)\n",
    "print(prange_right_result(x))\n",
    "print(prange_wrong_result(x))"
   ]
  },
  {
   "cell_type": "markdown",
   "id": "d8e76ac2-3678-4985-b254-ba08151da2f8",
   "metadata": {},
   "source": [
    "Whole array reductions are an exception to this rule. A number of unmpy operations are automatically recognized and supported"
   ]
  },
  {
   "cell_type": "code",
   "execution_count": 16,
   "id": "e61c1ca3-c6c5-425c-844b-1bac5ceec6e2",
   "metadata": {},
   "outputs": [],
   "source": [
    "@numba.njit(parallel=False)\n",
    "def reduction_in_serial(x):\n",
    "    n = x.shape[0]\n",
    "    y = 0.0\n",
    "    for i in numba.prange(n):\n",
    "        y += x[i]\n",
    "    return y"
   ]
  },
  {
   "cell_type": "code",
   "execution_count": 17,
   "id": "38902b21-a7d0-4cad-b75b-be278d2debc2",
   "metadata": {},
   "outputs": [],
   "source": [
    "@numba.njit(parallel=True)\n",
    "def reduction_in_parallel(x):\n",
    "    n = x.shape[0]\n",
    "    y = 0.0\n",
    "    for i in numba.prange(n):\n",
    "        y += x[i]\n",
    "    return y"
   ]
  },
  {
   "cell_type": "code",
   "execution_count": 18,
   "id": "21ce1084-e2d8-43b4-911e-a6e1bd05ffb4",
   "metadata": {},
   "outputs": [
    {
     "name": "stdout",
     "output_type": "stream",
     "text": [
      "499500.0\n",
      "499500.0\n"
     ]
    }
   ],
   "source": [
    "x = np.arange(1000)\n",
    "print(reduction_in_serial(x))\n",
    "print(reduction_in_parallel(x))"
   ]
  },
  {
   "cell_type": "markdown",
   "id": "5e61b328-f002-4c93-8921-8e5900417794",
   "metadata": {},
   "source": []
  }
 ],
 "metadata": {
  "kernelspec": {
   "display_name": "Python 3 (ipykernel)",
   "language": "python",
   "name": "python3"
  },
  "language_info": {
   "codemirror_mode": {
    "name": "ipython",
    "version": 3
   },
   "file_extension": ".py",
   "mimetype": "text/x-python",
   "name": "python",
   "nbconvert_exporter": "python",
   "pygments_lexer": "ipython3",
   "version": "3.9.5"
  }
 },
 "nbformat": 4,
 "nbformat_minor": 5
}
