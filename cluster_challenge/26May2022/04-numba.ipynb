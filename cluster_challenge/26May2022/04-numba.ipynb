{
 "cells": [
  {
   "cell_type": "code",
   "execution_count": 1,
   "id": "8660d582-00a4-416d-ab74-d68e7e389e73",
   "metadata": {},
   "outputs": [],
   "source": [
    "import numpy as np\n",
    "import numba\n",
    "import time"
   ]
  },
  {
   "cell_type": "code",
   "execution_count": 2,
   "id": "e11e24ab-0aad-49c5-bc55-1de4bb4dc9ed",
   "metadata": {},
   "outputs": [],
   "source": [
    "n = 1000000\n",
    "a = np.random.rand(n)\n",
    "b = np.random.rand(n)\n",
    "c = np.empty(n, dtype='float64')"
   ]
  },
  {
   "cell_type": "code",
   "execution_count": 4,
   "id": "bf85f424-bfbb-4914-9d51-c3dfa897c316",
   "metadata": {},
   "outputs": [
    {
     "name": "stdout",
     "output_type": "stream",
     "text": [
      "CPU times: user 5.43 ms, sys: 1.26 ms, total: 6.68 ms\n",
      "Wall time: 5.33 ms\n"
     ]
    }
   ],
   "source": [
    "%%time\n",
    "c = a + b"
   ]
  },
  {
   "cell_type": "code",
   "execution_count": 7,
   "id": "767e014f-890f-4873-951b-36ab8eb4f627",
   "metadata": {},
   "outputs": [
    {
     "name": "stdout",
     "output_type": "stream",
     "text": [
      "CPU times: user 462 ms, sys: 0 ns, total: 462 ms\n",
      "Wall time: 461 ms\n"
     ]
    }
   ],
   "source": [
    "%%time\n",
    "for i in range(n):\n",
    "    c[i] = a[i] + b[i]"
   ]
  },
  {
   "cell_type": "code",
   "execution_count": 8,
   "id": "16b9dc13-1e8a-4c94-a0f8-6e216736505a",
   "metadata": {},
   "outputs": [
    {
     "name": "stdout",
     "output_type": "stream",
     "text": [
      "CPU times: user 378 ms, sys: 3.8 ms, total: 382 ms\n",
      "Wall time: 380 ms\n"
     ]
    }
   ],
   "source": [
    "%%time\n",
    "def numba_fun(in1, in2, out):\n",
    "    \n",
    "    for i in range(n):\n",
    "        out[i] = in1[i] + in2[i]\n",
    "        \n",
    "numba_fun(a,b,c)"
   ]
  },
  {
   "cell_type": "code",
   "execution_count": 9,
   "id": "49787f86-b9a1-46bf-8f91-c4b2644a79c1",
   "metadata": {},
   "outputs": [
    {
     "name": "stdout",
     "output_type": "stream",
     "text": [
      "CPU times: user 348 ms, sys: 117 ms, total: 465 ms\n",
      "Wall time: 4.01 s\n"
     ]
    }
   ],
   "source": [
    "%%time\n",
    "@numba.njit\n",
    "def numba_fun(in1, in2, out):\n",
    "    \n",
    "    for i in range(n):\n",
    "        out[i] = in1[i] + in2[i]\n",
    "        \n",
    "numba_fun(a,b,c)"
   ]
  },
  {
   "cell_type": "code",
   "execution_count": 11,
   "id": "a72bce3f-e495-457d-b508-f3fec2b6584e",
   "metadata": {},
   "outputs": [
    {
     "name": "stdout",
     "output_type": "stream",
     "text": [
      "Time after compiling 1931 μs\n",
      "Time after compiling 1926 μs\n",
      "Time after compiling 1800 μs\n",
      "Time after compiling 1325 μs\n",
      "Time after compiling 1321 μs\n",
      "Time after compiling 1295 μs\n",
      "Time after compiling 1301 μs\n",
      "Time after compiling 1221 μs\n",
      "Time after compiling 1229 μs\n",
      "Time after compiling 1214 μs\n",
      "Time after compiling 1183 μs\n",
      "Time after compiling 1183 μs\n",
      "Time after compiling 1195 μs\n",
      "Time after compiling 1204 μs\n",
      "Time after compiling 1190 μs\n",
      "Time after compiling 1177 μs\n",
      "Time after compiling 1196 μs\n",
      "Time after compiling 1181 μs\n",
      "Time after compiling 1183 μs\n",
      "Time after compiling 1177 μs\n"
     ]
    }
   ],
   "source": [
    "for i in range(20):\n",
    "    t1 = time.perf_counter_ns()\n",
    "    numba_fun(a,b,c)\n",
    "    t2 = time.perf_counter_ns()\n",
    "    print(f'Time after compiling {round((t2-t1)/1000)} μs')"
   ]
  },
  {
   "cell_type": "code",
   "execution_count": 26,
   "id": "5cf8578f-ca79-49ac-94df-56fd7d531ea7",
   "metadata": {},
   "outputs": [
    {
     "name": "stdout",
     "output_type": "stream",
     "text": [
      "Time with compile 390 ms\n",
      "Time after compiling 901 μs\n",
      "Time after compiling 410 μs\n",
      "Time after compiling 324 μs\n",
      "Time after compiling 335 μs\n",
      "Time after compiling 375 μs\n",
      "Time after compiling 325 μs\n",
      "Time after compiling 267 μs\n",
      "Time after compiling 238 μs\n",
      "Time after compiling 286 μs\n",
      "Time after compiling 260 μs\n",
      "Time after compiling 260 μs\n",
      "Time after compiling 260 μs\n",
      "Time after compiling 288 μs\n",
      "Time after compiling 256 μs\n",
      "Time after compiling 177 μs\n",
      "Time after compiling 415 μs\n",
      "Time after compiling 193 μs\n",
      "Time after compiling 258 μs\n",
      "Time after compiling 278 μs\n",
      "Time after compiling 323 μs\n"
     ]
    }
   ],
   "source": [
    "@numba.njit(parallel=True)\n",
    "def numba_fun(in1, in2, out):\n",
    "    \n",
    "    for i in numba.prange(n):\n",
    "        out[i] = in1[i] + in2[i]\n",
    "        \n",
    "numba.set_num_threads(8)\n",
    "t1 = time.perf_counter_ns()\n",
    "numba_fun(a,b,c)\n",
    "t2 = time.perf_counter_ns()\n",
    "print(f'Time with compile {round((t2-t1)/1000000)} ms')\n",
    "\n",
    "for i in range(20):\n",
    "    t1 = time.perf_counter_ns()\n",
    "    numba_fun(a,b,c)\n",
    "    t2 = time.perf_counter_ns()\n",
    "    print(f'Time after compiling {round((t2-t1)/1000)} μs')"
   ]
  },
  {
   "cell_type": "code",
   "execution_count": null,
   "id": "c0b58ae2-b120-4c29-94d3-53ed87316b57",
   "metadata": {},
   "outputs": [],
   "source": []
  }
 ],
 "metadata": {
  "kernelspec": {
   "display_name": "Python 3",
   "language": "python",
   "name": "python3"
  },
  "language_info": {
   "codemirror_mode": {
    "name": "ipython",
    "version": 3
   },
   "file_extension": ".py",
   "mimetype": "text/x-python",
   "name": "python",
   "nbconvert_exporter": "python",
   "pygments_lexer": "ipython3",
   "version": "3.8.5"
  }
 },
 "nbformat": 4,
 "nbformat_minor": 5
}
