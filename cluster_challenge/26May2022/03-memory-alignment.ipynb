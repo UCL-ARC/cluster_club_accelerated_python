{
 "cells": [
  {
   "cell_type": "code",
   "execution_count": 3,
   "id": "b70df15d-6e8f-4add-9b76-c038b7be711f",
   "metadata": {},
   "outputs": [],
   "source": [
    "import numpy as np\n",
    "N = 10000"
   ]
  },
  {
   "cell_type": "code",
   "execution_count": 4,
   "id": "1d9ed125-b34d-4f0f-aa74-cd49c71c170e",
   "metadata": {},
   "outputs": [],
   "source": [
    "A = np.random.rand(N,N)\n",
    "Ac = np.array(A, order = 'C')\n",
    "Af = np.array(A, order = 'F')\n",
    "B = np.zeros(N)"
   ]
  },
  {
   "cell_type": "code",
   "execution_count": 7,
   "id": "e8e4db2d-50cf-473c-a548-fbf63a6ea1b5",
   "metadata": {},
   "outputs": [
    {
     "name": "stdout",
     "output_type": "stream",
     "text": [
      "True\n",
      "True\n"
     ]
    }
   ],
   "source": [
    "print((A == Ac).all())\n",
    "print((A == Af).all())"
   ]
  },
  {
   "cell_type": "code",
   "execution_count": 12,
   "id": "340aad5c-4ec5-424b-b69a-0ce0a0e9d9d5",
   "metadata": {},
   "outputs": [
    {
     "data": {
      "text/plain": [
       "(80000, 8)"
      ]
     },
     "execution_count": 12,
     "metadata": {},
     "output_type": "execute_result"
    }
   ],
   "source": [
    "A.strides"
   ]
  },
  {
   "cell_type": "code",
   "execution_count": 8,
   "id": "c25d7599-51e1-426e-a874-91ebfca8670e",
   "metadata": {},
   "outputs": [
    {
     "data": {
      "text/plain": [
       "(80000, 8)"
      ]
     },
     "execution_count": 8,
     "metadata": {},
     "output_type": "execute_result"
    }
   ],
   "source": [
    "Ac.strides"
   ]
  },
  {
   "cell_type": "code",
   "execution_count": 9,
   "id": "aaf92358-e90d-4e4a-871d-72977f3c313a",
   "metadata": {},
   "outputs": [
    {
     "data": {
      "text/plain": [
       "(8, 80000)"
      ]
     },
     "execution_count": 9,
     "metadata": {},
     "output_type": "execute_result"
    }
   ],
   "source": [
    "Af.strides"
   ]
  },
  {
   "cell_type": "code",
   "execution_count": 10,
   "id": "c0dbcdbb-96d3-4f40-9420-529fbdc8407b",
   "metadata": {},
   "outputs": [
    {
     "name": "stdout",
     "output_type": "stream",
     "text": [
      "CPU times: user 15 µs, sys: 0 ns, total: 15 µs\n",
      "Wall time: 17.9 µs\n"
     ]
    },
    {
     "data": {
      "text/plain": [
       "array([[0.09548197],\n",
       "       [0.72644258],\n",
       "       [0.39589779],\n",
       "       ...,\n",
       "       [0.93626024],\n",
       "       [0.59926198],\n",
       "       [0.01948001]])"
      ]
     },
     "execution_count": 10,
     "metadata": {},
     "output_type": "execute_result"
    }
   ],
   "source": [
    "%%time\n",
    "Ac.reshape(N*N, 1)"
   ]
  },
  {
   "cell_type": "code",
   "execution_count": 11,
   "id": "deac7f4f-7817-4e64-b8ac-de1f5a7aa3d5",
   "metadata": {},
   "outputs": [
    {
     "name": "stdout",
     "output_type": "stream",
     "text": [
      "CPU times: user 1.58 s, sys: 844 ms, total: 2.43 s\n",
      "Wall time: 2.43 s\n"
     ]
    },
    {
     "data": {
      "text/plain": [
       "array([[0.09548197],\n",
       "       [0.72644258],\n",
       "       [0.39589779],\n",
       "       ...,\n",
       "       [0.93626024],\n",
       "       [0.59926198],\n",
       "       [0.01948001]])"
      ]
     },
     "execution_count": 11,
     "metadata": {},
     "output_type": "execute_result"
    }
   ],
   "source": [
    "%%time\n",
    "Af.reshape(N*N,1)"
   ]
  },
  {
   "cell_type": "code",
   "execution_count": 13,
   "id": "ba6ecae0-6c51-4c24-892f-22bb3520bea7",
   "metadata": {},
   "outputs": [
    {
     "name": "stdout",
     "output_type": "stream",
     "text": [
      "CPU times: user 167 ms, sys: 499 µs, total: 168 ms\n",
      "Wall time: 166 ms\n"
     ]
    }
   ],
   "source": [
    "%%time\n",
    "for i in range(N):\n",
    "    B[i] = np.sum(Ac[i,:])"
   ]
  },
  {
   "cell_type": "code",
   "execution_count": 14,
   "id": "f1bd7d4d-7875-4ecb-9156-eeb51576f331",
   "metadata": {},
   "outputs": [
    {
     "name": "stdout",
     "output_type": "stream",
     "text": [
      "CPU times: user 1.51 s, sys: 153 ms, total: 1.67 s\n",
      "Wall time: 1.67 s\n"
     ]
    }
   ],
   "source": [
    "%%time\n",
    "for i in range(N):\n",
    "    B[i] = np.sum(Ac[:,i])"
   ]
  },
  {
   "cell_type": "code",
   "execution_count": 15,
   "id": "4c4c98d6-3387-476a-8193-1bded9417c21",
   "metadata": {},
   "outputs": [
    {
     "name": "stdout",
     "output_type": "stream",
     "text": [
      "CPU times: user 1.52 s, sys: 297 ms, total: 1.82 s\n",
      "Wall time: 1.82 s\n"
     ]
    }
   ],
   "source": [
    "%%time\n",
    "for i in range(N):\n",
    "    B[i] = np.sum(Af[i,:])"
   ]
  },
  {
   "cell_type": "code",
   "execution_count": 16,
   "id": "726a187e-0524-4f00-9bc3-155e120b9460",
   "metadata": {},
   "outputs": [
    {
     "name": "stdout",
     "output_type": "stream",
     "text": [
      "CPU times: user 136 ms, sys: 1.86 ms, total: 137 ms\n",
      "Wall time: 136 ms\n"
     ]
    }
   ],
   "source": [
    "%%time\n",
    "for i in range(N):\n",
    "    B[i] = np.sum(Af[:,i])"
   ]
  },
  {
   "cell_type": "code",
   "execution_count": 21,
   "id": "bdc46fb9-b7e2-4df5-ba0a-60c17ce5aca6",
   "metadata": {},
   "outputs": [
    {
     "name": "stdout",
     "output_type": "stream",
     "text": [
      "(80000, 8)\n",
      "(8, 80000)\n",
      "CPU times: user 196 µs, sys: 64 µs, total: 260 µs\n",
      "Wall time: 227 µs\n"
     ]
    }
   ],
   "source": [
    "%%time\n",
    "print(Ac.strides)\n",
    "print(Ac.T.strides)"
   ]
  },
  {
   "cell_type": "code",
   "execution_count": 23,
   "id": "f3d55ce0-ccb5-47a2-a698-c71698cbea61",
   "metadata": {},
   "outputs": [
    {
     "name": "stdout",
     "output_type": "stream",
     "text": [
      "CPU times: user 1.47 s, sys: 497 ms, total: 1.97 s\n",
      "Wall time: 1.97 s\n"
     ]
    }
   ],
   "source": [
    "%%time\n",
    "F = np.asfortranarray(Ac)"
   ]
  },
  {
   "cell_type": "code",
   "execution_count": null,
   "id": "efd25770-b42a-4b10-bea2-5903d3dc64de",
   "metadata": {},
   "outputs": [],
   "source": []
  }
 ],
 "metadata": {
  "kernelspec": {
   "display_name": "Python 3",
   "language": "python",
   "name": "python3"
  },
  "language_info": {
   "codemirror_mode": {
    "name": "ipython",
    "version": 3
   },
   "file_extension": ".py",
   "mimetype": "text/x-python",
   "name": "python",
   "nbconvert_exporter": "python",
   "pygments_lexer": "ipython3",
   "version": "3.8.5"
  }
 },
 "nbformat": 4,
 "nbformat_minor": 5
}
