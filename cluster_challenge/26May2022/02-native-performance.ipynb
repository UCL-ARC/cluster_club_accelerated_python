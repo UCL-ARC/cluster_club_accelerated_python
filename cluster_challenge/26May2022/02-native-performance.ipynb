{
 "cells": [
  {
   "cell_type": "code",
   "execution_count": 1,
   "id": "0f688321-3fd4-4417-b420-9266288b9507",
   "metadata": {},
   "outputs": [],
   "source": [
    "import numpy as np"
   ]
  },
  {
   "cell_type": "code",
   "execution_count": 2,
   "id": "d258e894-cc5b-4631-a358-fec692692c54",
   "metadata": {},
   "outputs": [],
   "source": [
    "N = 1000000"
   ]
  },
  {
   "cell_type": "code",
   "execution_count": 13,
   "id": "2a773625-77bc-4825-a836-7001eb1826bc",
   "metadata": {
    "tags": []
   },
   "outputs": [],
   "source": [
    "X_native = range(N)\n",
    "Y_native = range(N)\n",
    "Z_native = [0]*N"
   ]
  },
  {
   "cell_type": "code",
   "execution_count": 16,
   "id": "c8274f3e-0bff-4ed5-82cc-18543a53fa03",
   "metadata": {},
   "outputs": [
    {
     "name": "stdout",
     "output_type": "stream",
     "text": [
      "CPU times: user 434 ms, sys: 887 µs, total: 435 ms\n",
      "Wall time: 434 ms\n"
     ]
    }
   ],
   "source": [
    "%%time\n",
    "for i in range(N):\n",
    "    Z_native[i] = X_native[i] + Y_native[i]"
   ]
  },
  {
   "cell_type": "code",
   "execution_count": 17,
   "id": "bc54bda3-096b-4b69-a8fb-355a44a07ce9",
   "metadata": {},
   "outputs": [
    {
     "name": "stdout",
     "output_type": "stream",
     "text": [
      "CPU times: user 340 ms, sys: 32.7 ms, total: 373 ms\n",
      "Wall time: 372 ms\n"
     ]
    }
   ],
   "source": [
    "%%time\n",
    "Z = [X_native[i] + Y_native[i] for i in range(N)]"
   ]
  },
  {
   "cell_type": "code",
   "execution_count": 18,
   "id": "b33d21d5-d410-43ad-a20e-586e9a03748b",
   "metadata": {},
   "outputs": [
    {
     "data": {
      "text/plain": [
       "[0, 2, 4, 6, 8, 10, 12, 14, 16, 18]"
      ]
     },
     "execution_count": 18,
     "metadata": {},
     "output_type": "execute_result"
    }
   ],
   "source": [
    "Z[:10]"
   ]
  },
  {
   "cell_type": "code",
   "execution_count": 21,
   "id": "f21edd8b-b427-4bdb-a593-06e84887a9c2",
   "metadata": {},
   "outputs": [],
   "source": [
    "X_numpy = np.arange(N)\n",
    "Y_numpy = np.arange(N)\n",
    "Z_numpy = np.zeros(N)"
   ]
  },
  {
   "cell_type": "code",
   "execution_count": 22,
   "id": "6534ca5e-e2b1-4f4b-847c-916b9d44a3bd",
   "metadata": {},
   "outputs": [
    {
     "name": "stdout",
     "output_type": "stream",
     "text": [
      "CPU times: user 583 ms, sys: 7.53 ms, total: 590 ms\n",
      "Wall time: 590 ms\n"
     ]
    }
   ],
   "source": [
    "%%time\n",
    "for i in range(N):\n",
    "    Z_numpy[i] = X_numpy[i] + Y_numpy[i]"
   ]
  },
  {
   "cell_type": "code",
   "execution_count": 23,
   "id": "063b9b95-657e-4393-9caa-0a797d70e16f",
   "metadata": {},
   "outputs": [
    {
     "name": "stdout",
     "output_type": "stream",
     "text": [
      "CPU times: user 2.09 ms, sys: 1.82 ms, total: 3.92 ms\n",
      "Wall time: 2.56 ms\n"
     ]
    }
   ],
   "source": [
    "%%time\n",
    "Z_numpy = X_numpy + Y_numpy"
   ]
  },
  {
   "cell_type": "code",
   "execution_count": null,
   "id": "663ab2d6-d821-4f3b-b956-2cb2c949100f",
   "metadata": {},
   "outputs": [],
   "source": []
  }
 ],
 "metadata": {
  "kernelspec": {
   "display_name": "Python 3",
   "language": "python",
   "name": "python3"
  },
  "language_info": {
   "codemirror_mode": {
    "name": "ipython",
    "version": 3
   },
   "file_extension": ".py",
   "mimetype": "text/x-python",
   "name": "python",
   "nbconvert_exporter": "python",
   "pygments_lexer": "ipython3",
   "version": "3.8.5"
  }
 },
 "nbformat": 4,
 "nbformat_minor": 5
}
