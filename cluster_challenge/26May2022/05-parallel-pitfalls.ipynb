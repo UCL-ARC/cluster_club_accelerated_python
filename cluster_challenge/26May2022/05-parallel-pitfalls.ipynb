{
 "cells": [
  {
   "cell_type": "code",
   "execution_count": 1,
   "id": "728e6dfc-847c-430a-9ac8-29e795db2002",
   "metadata": {},
   "outputs": [],
   "source": [
    "import numpy as np\n",
    "import numba\n",
    "import time"
   ]
  },
  {
   "cell_type": "code",
   "execution_count": 2,
   "id": "924365c6-8d1a-43b6-a63c-065c27e23ea3",
   "metadata": {},
   "outputs": [],
   "source": [
    "n = 1000000\n",
    "a = np.random.randn(n)\n",
    "b = np.random.randn(n)\n",
    "c = np.zeros(n, dtype='float64')"
   ]
  },
  {
   "cell_type": "code",
   "execution_count": 8,
   "id": "d5cfb2e2-63a6-4157-9899-27407e2fc5f9",
   "metadata": {},
   "outputs": [
    {
     "name": "stdout",
     "output_type": "stream",
     "text": [
      "[ 0.          0.76442425  0.28357462 -0.07494148 -0.55346375 -0.7930858\n",
      " -0.73389193 -2.76701364 -2.15278419 -2.14695208]\n",
      "2078920\n",
      "1945753\n",
      "1870994\n",
      "1840053\n",
      "1825063\n",
      "1809684\n",
      "1807234\n",
      "1801520\n",
      "1798409\n",
      "1805393\n"
     ]
    }
   ],
   "source": [
    "@numba.njit(parallel=False)\n",
    "def numba_fun(x,y):\n",
    "    \n",
    "    for i in range(1,n):\n",
    "        y[i] = y[i-1] + x[i]\n",
    "        \n",
    "numba_fun(a,c)\n",
    "print(c[:10])\n",
    "\n",
    "for i in range(10):\n",
    "    t1 = time.perf_counter_ns()\n",
    "    numba_fun(a,c)\n",
    "    t2 = time.perf_counter_ns()\n",
    "    print(t2-t1)"
   ]
  },
  {
   "cell_type": "code",
   "execution_count": 12,
   "id": "2cda14cb-e905-42e5-b3db-315dbe2fffb9",
   "metadata": {},
   "outputs": [
    {
     "name": "stdout",
     "output_type": "stream",
     "text": [
      "[ 0.          0.76442425  0.28357462 -0.07494148 -0.55346375 -0.7930858\n",
      " -0.73389193 -2.76701364 -2.15278419 -2.14695208]\n",
      "1057031\n",
      "1059200\n",
      "1068089\n",
      "1067249\n",
      "1086205\n",
      "1041861\n",
      "1033879\n",
      "1032966\n",
      "1030534\n",
      "1040900\n"
     ]
    }
   ],
   "source": [
    "@numba.njit(parallel=True)\n",
    "def numba_fun(x,y):\n",
    "    \n",
    "    for i in numba.prange(1,n):\n",
    "        y[i] = y[i-1] + x[i]\n",
    "        \n",
    "numba.set_num_threads(4)\n",
    "numba_fun(a,c)\n",
    "print(c[:10])\n",
    "\n",
    "for i in range(10):\n",
    "    t1 = time.perf_counter_ns()\n",
    "    numba_fun(a,c)\n",
    "    t2 = time.perf_counter_ns()\n",
    "    print(t2-t1)"
   ]
  },
  {
   "cell_type": "code",
   "execution_count": 16,
   "id": "96d12bab-8406-4513-a39e-0cffe836a469",
   "metadata": {},
   "outputs": [],
   "source": [
    "@numba.njit(parallel=False)\n",
    "def prange_right_result(x):\n",
    "    y = np.zeros(4)\n",
    "    n = x.shape[0]\n",
    "    for i in numba.prange(n):\n",
    "        y[:] = y[0] + x[i]\n",
    "        \n",
    "    return y"
   ]
  },
  {
   "cell_type": "code",
   "execution_count": 17,
   "id": "55f74b5f-8227-40e2-bf47-78af6596b0dd",
   "metadata": {},
   "outputs": [],
   "source": [
    "@numba.njit(parallel=True)\n",
    "def prange_wrong_result(x):\n",
    "    y = np.zeros(4)\n",
    "    n = x.shape[0]\n",
    "    for i in numba.prange(n):\n",
    "        y[:] = y[0] + x[i]\n",
    "        \n",
    "    return y"
   ]
  },
  {
   "cell_type": "code",
   "execution_count": 19,
   "id": "718368f3-4133-4122-857f-c1713f47e168",
   "metadata": {},
   "outputs": [
    {
     "name": "stdout",
     "output_type": "stream",
     "text": [
      "[507.72435016 507.83014467 507.47133022 508.17036267]\n",
      "[1.20413928 1.3099338  0.95111935 1.6501518 ]\n"
     ]
    }
   ],
   "source": [
    "x = np.random.rand(1000,4)\n",
    "print(prange_right_result(x))\n",
    "print(prange_wrong_result(x))"
   ]
  },
  {
   "cell_type": "code",
   "execution_count": 20,
   "id": "90c9a2e6-4469-442b-a662-e5bf57c016c4",
   "metadata": {},
   "outputs": [],
   "source": [
    "@numba.njit(parallel=False)\n",
    "def reduction_in_serial(x):\n",
    "    y = 0.0\n",
    "    n = x.shape[0]\n",
    "    for i in numba.prange(n):\n",
    "        y += x[i]\n",
    "    return y"
   ]
  },
  {
   "cell_type": "code",
   "execution_count": 21,
   "id": "c63ee5eb-f947-4425-8d2f-6fabd3d9b0cd",
   "metadata": {},
   "outputs": [],
   "source": [
    "@numba.njit(parallel=True)\n",
    "def reduction_in_parallel(x):\n",
    "    y = 0.0\n",
    "    n = x.shape[0]\n",
    "    for i in numba.prange(n):\n",
    "        y += x[i]\n",
    "    return y"
   ]
  },
  {
   "cell_type": "code",
   "execution_count": 23,
   "id": "c9800288-292c-4094-81f0-7e2fb4682a6f",
   "metadata": {},
   "outputs": [
    {
     "name": "stdout",
     "output_type": "stream",
     "text": [
      "499500.0\n",
      "499500.0\n"
     ]
    }
   ],
   "source": [
    "x = np.arange(1000)\n",
    "print(reduction_in_serial(x))\n",
    "print(reduction_in_parallel(x))"
   ]
  },
  {
   "cell_type": "code",
   "execution_count": null,
   "id": "6e652a1f-c930-48e7-b4db-1f6882990d7a",
   "metadata": {},
   "outputs": [],
   "source": []
  }
 ],
 "metadata": {
  "kernelspec": {
   "display_name": "Python 3",
   "language": "python",
   "name": "python3"
  },
  "language_info": {
   "codemirror_mode": {
    "name": "ipython",
    "version": 3
   },
   "file_extension": ".py",
   "mimetype": "text/x-python",
   "name": "python",
   "nbconvert_exporter": "python",
   "pygments_lexer": "ipython3",
   "version": "3.8.5"
  }
 },
 "nbformat": 4,
 "nbformat_minor": 5
}
