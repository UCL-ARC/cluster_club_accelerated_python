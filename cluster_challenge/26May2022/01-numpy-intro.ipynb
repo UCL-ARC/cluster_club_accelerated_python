{
 "cells": [
  {
   "cell_type": "code",
   "execution_count": 1,
   "id": "b3731013-eaca-47fb-9348-85584f88f687",
   "metadata": {},
   "outputs": [],
   "source": [
    "import numpy as np"
   ]
  },
  {
   "cell_type": "code",
   "execution_count": 6,
   "id": "25c6e15d-7dd3-46f9-9059-2194202b916f",
   "metadata": {},
   "outputs": [],
   "source": [
    "a = np.array((3.5, 1.0, -4.7), dtype='float64')"
   ]
  },
  {
   "cell_type": "code",
   "execution_count": 7,
   "id": "a73fb347-799e-413e-90b7-7f4d3ab9dcfa",
   "metadata": {},
   "outputs": [
    {
     "name": "stdout",
     "output_type": "stream",
     "text": [
      "[ 3.5  1.  -4.7]\n"
     ]
    }
   ],
   "source": [
    "print(a)"
   ]
  },
  {
   "cell_type": "code",
   "execution_count": 4,
   "id": "2e4dc6ba-b562-4717-bc27-f79c78af90fd",
   "metadata": {},
   "outputs": [],
   "source": [
    "a_random = np.random.rand(10)"
   ]
  },
  {
   "cell_type": "code",
   "execution_count": 5,
   "id": "4d1b3b89-aaf8-4b48-b21f-10112b05f7ec",
   "metadata": {},
   "outputs": [
    {
     "data": {
      "text/plain": [
       "array([0.09748511, 0.70969798, 0.22699878, 0.07791304, 0.77976209,\n",
       "       0.31656487, 0.42198073, 0.69632158, 0.64145674, 0.46928822])"
      ]
     },
     "execution_count": 5,
     "metadata": {},
     "output_type": "execute_result"
    }
   ],
   "source": [
    "a_random"
   ]
  },
  {
   "cell_type": "code",
   "execution_count": 8,
   "id": "2693ec55-4d1c-4c2a-8703-c789c4b1baef",
   "metadata": {},
   "outputs": [],
   "source": [
    "a_ones = np.ones(10)\n",
    "a_zeros = np.zeros(10)\n",
    "a_empty = np.empty(10)\n",
    "a_range = np.arange(10)"
   ]
  },
  {
   "cell_type": "code",
   "execution_count": 9,
   "id": "74ab4cdc-0e0d-48ff-ba11-f8e84fbbe96b",
   "metadata": {},
   "outputs": [
    {
     "data": {
      "text/plain": [
       "array([0, 1, 2, 3, 4, 5, 6, 7, 8, 9])"
      ]
     },
     "execution_count": 9,
     "metadata": {},
     "output_type": "execute_result"
    }
   ],
   "source": [
    "a_range"
   ]
  },
  {
   "cell_type": "code",
   "execution_count": 10,
   "id": "459b86e0-08c3-4cee-84f7-bfcd73c0e5d2",
   "metadata": {},
   "outputs": [],
   "source": [
    "b = np.array(a)"
   ]
  },
  {
   "cell_type": "code",
   "execution_count": 11,
   "id": "d0439d1b-432c-42fb-809a-7fdcaafcdcc1",
   "metadata": {},
   "outputs": [
    {
     "data": {
      "text/plain": [
       "array([ 3.5,  1. , -4.7])"
      ]
     },
     "execution_count": 11,
     "metadata": {},
     "output_type": "execute_result"
    }
   ],
   "source": [
    "b"
   ]
  },
  {
   "cell_type": "code",
   "execution_count": 12,
   "id": "47112de1-d15e-4460-8e06-e66633792b06",
   "metadata": {},
   "outputs": [
    {
     "data": {
      "text/plain": [
       "(10,)"
      ]
     },
     "execution_count": 12,
     "metadata": {},
     "output_type": "execute_result"
    }
   ],
   "source": [
    "a_ones.shape"
   ]
  },
  {
   "cell_type": "code",
   "execution_count": 14,
   "id": "9baf332b-b31b-41c6-8d5c-753b5e7a6d5e",
   "metadata": {},
   "outputs": [],
   "source": [
    "b_ones = np.ones((10,10))"
   ]
  },
  {
   "cell_type": "code",
   "execution_count": 15,
   "id": "ecdc78fc-0f0a-42f6-817c-fb3d22f87c8d",
   "metadata": {},
   "outputs": [
    {
     "data": {
      "text/plain": [
       "(10, 10)"
      ]
     },
     "execution_count": 15,
     "metadata": {},
     "output_type": "execute_result"
    }
   ],
   "source": [
    "b_ones.shape"
   ]
  },
  {
   "cell_type": "code",
   "execution_count": 16,
   "id": "4a914f14-b130-40bc-a917-fbfc51b9727e",
   "metadata": {},
   "outputs": [
    {
     "data": {
      "text/plain": [
       "array([[1., 1., 1., 1., 1., 1., 1., 1., 1., 1.],\n",
       "       [1., 1., 1., 1., 1., 1., 1., 1., 1., 1.],\n",
       "       [1., 1., 1., 1., 1., 1., 1., 1., 1., 1.],\n",
       "       [1., 1., 1., 1., 1., 1., 1., 1., 1., 1.],\n",
       "       [1., 1., 1., 1., 1., 1., 1., 1., 1., 1.],\n",
       "       [1., 1., 1., 1., 1., 1., 1., 1., 1., 1.],\n",
       "       [1., 1., 1., 1., 1., 1., 1., 1., 1., 1.],\n",
       "       [1., 1., 1., 1., 1., 1., 1., 1., 1., 1.],\n",
       "       [1., 1., 1., 1., 1., 1., 1., 1., 1., 1.],\n",
       "       [1., 1., 1., 1., 1., 1., 1., 1., 1., 1.]])"
      ]
     },
     "execution_count": 16,
     "metadata": {},
     "output_type": "execute_result"
    }
   ],
   "source": [
    "b_ones"
   ]
  },
  {
   "cell_type": "code",
   "execution_count": 24,
   "id": "90c027d2-898b-4565-af93-ecad880e8074",
   "metadata": {},
   "outputs": [
    {
     "data": {
      "text/plain": [
       "array([8, 9])"
      ]
     },
     "execution_count": 24,
     "metadata": {},
     "output_type": "execute_result"
    }
   ],
   "source": [
    "a_range[-2:]"
   ]
  },
  {
   "cell_type": "code",
   "execution_count": 28,
   "id": "881853be-18e2-4963-b04b-8fda27a172a1",
   "metadata": {},
   "outputs": [],
   "source": [
    "b_ones[1,:] = 2.0"
   ]
  },
  {
   "cell_type": "code",
   "execution_count": 29,
   "id": "8b323aa2-f172-4527-85c3-5c5fad9e4fca",
   "metadata": {},
   "outputs": [
    {
     "data": {
      "text/plain": [
       "array([[1., 1., 1., 1., 1., 1., 1., 1., 1., 1.],\n",
       "       [2., 2., 2., 2., 2., 2., 2., 2., 2., 2.],\n",
       "       [1., 1., 1., 1., 1., 1., 1., 1., 1., 1.],\n",
       "       [1., 1., 1., 1., 1., 2., 1., 1., 1., 1.],\n",
       "       [1., 1., 1., 1., 1., 1., 1., 1., 1., 1.],\n",
       "       [1., 1., 1., 1., 1., 1., 1., 1., 1., 1.],\n",
       "       [1., 1., 1., 1., 1., 1., 1., 1., 1., 1.],\n",
       "       [1., 1., 1., 1., 1., 1., 1., 1., 1., 1.],\n",
       "       [1., 1., 1., 1., 1., 1., 1., 1., 1., 1.],\n",
       "       [1., 1., 1., 1., 1., 1., 1., 1., 1., 1.]])"
      ]
     },
     "execution_count": 29,
     "metadata": {},
     "output_type": "execute_result"
    }
   ],
   "source": [
    "b_ones"
   ]
  },
  {
   "cell_type": "code",
   "execution_count": 30,
   "id": "8ff02bd3-71c4-49d1-8f88-90a92b846eb7",
   "metadata": {},
   "outputs": [
    {
     "data": {
      "image/png": "[encoded data removed]",
      "text/plain": [
       "<Figure size 432x288 with 1 Axes>"
      ]
     },
     "metadata": {
      "needs_background": "light"
     },
     "output_type": "display_data"
    }
   ],
   "source": [
    "%matplotlib inline\n",
    "from matplotlib import pyplot as plt\n",
    "\n",
    "x = np.linspace(-1.0, 1.0)\n",
    "y = np.exp(-x**2)\n",
    "plt.plot(x,y)\n",
    "plt.show()"
   ]
  },
  {
   "cell_type": "code",
   "execution_count": 32,
   "id": "6d594a63-761f-453c-b821-7405a0905c21",
   "metadata": {},
   "outputs": [
    {
     "data": {
      "text/plain": [
       "numpy.ndarray"
      ]
     },
     "execution_count": 32,
     "metadata": {},
     "output_type": "execute_result"
    }
   ],
   "source": [
    "type(x)"
   ]
  },
  {
   "cell_type": "code",
   "execution_count": null,
   "id": "bd1b734e-87ad-4510-b5b9-56b6ffd26afb",
   "metadata": {},
   "outputs": [],
   "source": []
  }
 ],
 "metadata": {
  "kernelspec": {
   "display_name": "Python 3",
   "language": "python",
   "name": "python3"
  },
  "language_info": {
   "codemirror_mode": {
    "name": "ipython",
    "version": 3
   },
   "file_extension": ".py",
   "mimetype": "text/x-python",
   "name": "python",
   "nbconvert_exporter": "python",
   "pygments_lexer": "ipython3",
   "version": "3.8.5"
  }
 },
 "nbformat": 4,
 "nbformat_minor": 5
}
