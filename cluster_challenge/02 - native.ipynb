{
 "cells": [
  {
   "cell_type": "code",
   "execution_count": 1,
   "id": "c37f1c4d-0766-413d-9e00-6810d5c0c5a0",
   "metadata": {},
   "outputs": [],
   "source": [
    "import numpy as np"
   ]
  },
  {
   "cell_type": "code",
   "execution_count": 2,
   "id": "e274005e-5717-4583-985c-c654b4b7f14c",
   "metadata": {},
   "outputs": [],
   "source": [
    "N = 100000"
   ]
  },
  {
   "cell_type": "code",
   "execution_count": 3,
   "id": "e65b940a-7194-4657-82a9-dbcf15ee05c8",
   "metadata": {},
   "outputs": [],
   "source": [
    "X_native = range(N)\n",
    "Y_native = range(N)\n",
    "Z_native = [0]*N"
   ]
  },
  {
   "cell_type": "code",
   "execution_count": 4,
   "id": "a86f6066-2ea7-4f49-85c1-de643ad0643e",
   "metadata": {},
   "outputs": [
    {
     "name": "stdout",
     "output_type": "stream",
     "text": [
      "CPU times: user 43.5 ms, sys: 3.03 ms, total: 46.5 ms\n",
      "Wall time: 45.4 ms\n"
     ]
    }
   ],
   "source": [
    "%%time\n",
    "for i in range(N):\n",
    "    Z_native[i] = X_native[i] + Y_native[i]"
   ]
  },
  {
   "cell_type": "code",
   "execution_count": 5,
   "id": "395c7475-3b14-4b13-9943-9a46e64f5b2e",
   "metadata": {},
   "outputs": [
    {
     "name": "stdout",
     "output_type": "stream",
     "text": [
      "CPU times: user 36.3 ms, sys: 1.98 ms, total: 38.3 ms\n",
      "Wall time: 36.6 ms\n"
     ]
    }
   ],
   "source": [
    "%%time\n",
    "Z = [X_native[i] + Y_native[i] for i in range(N)]"
   ]
  },
  {
   "cell_type": "code",
   "execution_count": 6,
   "id": "de365647-9436-4037-a0ee-d5aea770287a",
   "metadata": {},
   "outputs": [],
   "source": [
    "X_numpy = np.arange(N)\n",
    "Y_numpy = np.arange(N)\n",
    "Z_numpy = np.zeros(N)"
   ]
  },
  {
   "cell_type": "code",
   "execution_count": 7,
   "id": "fef563fb-6a39-497b-96c6-0a1d980f6a2a",
   "metadata": {},
   "outputs": [
    {
     "name": "stdout",
     "output_type": "stream",
     "text": [
      "CPU times: user 887 µs, sys: 0 ns, total: 887 µs\n",
      "Wall time: 586 µs\n"
     ]
    }
   ],
   "source": [
    "%%time\n",
    "Z_numpy = X_numpy + Y_numpy"
   ]
  }
 ],
 "metadata": {
  "kernelspec": {
   "display_name": "Python 3",
   "language": "python",
   "name": "python3"
  },
  "language_info": {
   "codemirror_mode": {
    "name": "ipython",
    "version": 3
   },
   "file_extension": ".py",
   "mimetype": "text/x-python",
   "name": "python",
   "nbconvert_exporter": "python",
   "pygments_lexer": "ipython3",
   "version": "3.8.5"
  }
 },
 "nbformat": 4,
 "nbformat_minor": 5
}
