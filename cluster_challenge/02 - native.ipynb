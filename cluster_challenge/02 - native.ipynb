{
 "cells": [
  {
   "cell_type": "code",
   "execution_count": 8,
   "id": "c37f1c4d-0766-413d-9e00-6810d5c0c5a0",
   "metadata": {},
   "outputs": [],
   "source": [
    "import numpy as np"
   ]
  },
  {
   "cell_type": "code",
   "execution_count": 9,
   "id": "e274005e-5717-4583-985c-c654b4b7f14c",
   "metadata": {},
   "outputs": [],
   "source": [
    "N = 100000"
   ]
  },
  {
   "cell_type": "code",
   "execution_count": 10,
   "id": "e65b940a-7194-4657-82a9-dbcf15ee05c8",
   "metadata": {},
   "outputs": [],
   "source": [
    "X_native = range(N)\n",
    "Y_native = range(N)\n",
    "Z_native = [0]*N"
   ]
  },
  {
   "cell_type": "code",
   "execution_count": 11,
   "id": "a86f6066-2ea7-4f49-85c1-de643ad0643e",
   "metadata": {},
   "outputs": [
    {
     "name": "stdout",
     "output_type": "stream",
     "text": [
      "CPU times: user 49.4 ms, sys: 3.4 ms, total: 52.8 ms\n",
      "Wall time: 96 ms\n"
     ]
    }
   ],
   "source": [
    "%%time\n",
    "for i in range(N):\n",
    "    Z_native[i] = X_native[i] + Y_native[i]"
   ]
  },
  {
   "cell_type": "code",
   "execution_count": 12,
   "id": "395c7475-3b14-4b13-9943-9a46e64f5b2e",
   "metadata": {},
   "outputs": [
    {
     "name": "stdout",
     "output_type": "stream",
     "text": [
      "CPU times: user 42.2 ms, sys: 16.7 ms, total: 58.9 ms\n",
      "Wall time: 88 ms\n"
     ]
    }
   ],
   "source": [
    "%%time\n",
    "Z = [X_native[i] + Y_native[i] for i in range(N)]"
   ]
  },
  {
   "cell_type": "code",
   "execution_count": 13,
   "id": "de365647-9436-4037-a0ee-d5aea770287a",
   "metadata": {},
   "outputs": [],
   "source": [
    "X_numpy = np.arange(N)\n",
    "Y_numpy = np.arange(N)\n",
    "Z_numpy = np.zeros(N)"
   ]
  },
  {
   "cell_type": "code",
   "execution_count": 14,
   "id": "fef563fb-6a39-497b-96c6-0a1d980f6a2a",
   "metadata": {},
   "outputs": [
    {
     "name": "stdout",
     "output_type": "stream",
     "text": [
      "CPU times: user 712 µs, sys: 1.66 ms, total: 2.37 ms\n",
      "Wall time: 10.1 ms\n"
     ]
    }
   ],
   "source": [
    "%%time\n",
    "Z_numpy = X_numpy + Y_numpy"
   ]
  },
  {
   "cell_type": "code",
   "execution_count": null,
   "id": "ec2debdd-80f5-4ca8-9263-a88d6ece112d",
   "metadata": {},
   "outputs": [],
   "source": []
  }
 ],
 "metadata": {
  "kernelspec": {
   "display_name": "Python 3 (ipykernel)",
   "language": "python",
   "name": "python3"
  },
  "language_info": {
   "codemirror_mode": {
    "name": "ipython",
    "version": 3
   },
   "file_extension": ".py",
   "mimetype": "text/x-python",
   "name": "python",
   "nbconvert_exporter": "python",
   "pygments_lexer": "ipython3",
   "version": "3.9.5"
  }
 },
 "nbformat": 4,
 "nbformat_minor": 5
}
