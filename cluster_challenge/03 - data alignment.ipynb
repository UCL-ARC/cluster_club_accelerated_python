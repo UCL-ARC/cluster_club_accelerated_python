{
 "cells": [
  {
   "cell_type": "markdown",
   "id": "e2bf5bdb-cb81-4951-b1e3-a10d2d641dea",
   "metadata": {
    "tags": []
   },
   "source": [
    "## Memory layouts"
   ]
  },
  {
   "cell_type": "markdown",
   "id": "9041b8e7-1f01-4a5b-b589-d8a8f4f4b9dc",
   "metadata": {
    "tags": []
   },
   "source": [
    "We can imagine memory as a linear collection of consecutive memory addresses (each one representing one byte).\n",
    "\n",
    "\n",
    "![Byte array in memory](../hpc_lecture_notes/img/byte_array.png)"
   ]
  },
  {
   "cell_type": "markdown",
   "id": "bee2403c-45aa-4df8-9852-580d26b953e1",
   "metadata": {
    "tags": []
   },
   "source": [
    "The key toe fficient data representations is to order data spatially local in memory. This means that the data we want to work on next should be as close to our current data as possible. The reason is that memory accesses in modern computers are extremely expensive compared to actual computations. In order to alleviate this problem all modern CPUs rely on sophisticated caches that try to read data ahead of time from the memory. This works only if the next pieces of data are close to the data that we are currently working on.\n",
    "\n",
    "Standard Python list types do not guarantee this locality. List elements can be at very different memory addresses, making standard lists are other base Python types unsuitable for numerical operations. What we require is a buffer type that guarantees us a chunk of consecutive addresses in the system memory.\n",
    "\n",
    "What happens if we have a matrix? Consider a 2 x 2 matrix\n",
    "\n",
    "$$\n",
    "A = \\begin{bmatrix} 1 & 2\\\\ 3 & 4\\end{bmatrix}\n",
    "$$\n",
    "\n",
    "We have two ways of ordering this matrix across the memory band\n",
    "\n",
    "* **C-Style ordering:** This aligns the matrix row by row in memory. Hence, our memory buffer will have four elements that read\n",
    "\n",
    "$$\n",
    "1, 2, 3, 4\n",
    "$$\n",
    "\n",
    "* **Fortran Style ordering:** This aligns the matrix column by column in memory. Our memory buffer will now have four elements that read\n",
    "\n",
    "$$\n",
    "1, 3, 2, 4\n",
    "$$\n",
    "\n",
    "Both memory layout styles are used across scientific computing, and it is important to know what the assumed layout in a given numerical library is. Ignoring data layouts leads to inefficiency if code has to translate on the fly between the layouts, or even bugs if the layout differences are ignored by a library."
   ]
  },
  {
   "cell_type": "code",
   "execution_count": 2,
   "id": "8d8e2222",
   "metadata": {
    "scrolled": true,
    "tags": []
   },
   "outputs": [],
   "source": [
    "import numpy as np\n",
    "import time"
   ]
  },
  {
   "cell_type": "code",
   "execution_count": 3,
   "id": "f61ffa6a",
   "metadata": {},
   "outputs": [],
   "source": [
    "N = 10000"
   ]
  },
  {
   "cell_type": "markdown",
   "id": "01f61d15-1272-4ed4-9163-666e089e51d3",
   "metadata": {},
   "source": [
    "Let's create two identical NxN arrays, but store them into memory with C and Fortran style orderings. For the purpose of computation, the arrays are element-wise equal."
   ]
  },
  {
   "cell_type": "code",
   "execution_count": 4,
   "id": "c57844de-7263-491c-b6c2-11df24131819",
   "metadata": {},
   "outputs": [
    {
     "name": "stdout",
     "output_type": "stream",
     "text": [
      "A == Ac is True\n",
      "A == Af is True\n",
      "Ac == Af is True\n"
     ]
    }
   ],
   "source": [
    "A = np.random.rand(N,N)\n",
    "Ac = np.array(A, order = 'C')\n",
    "Af = np.array(A, order = 'F')\n",
    "B = np.zeros(N)\n",
    "\n",
    "print ('A == Ac is', (A == Ac).all())\n",
    "print ('A == Af is', (A == Af).all())\n",
    "print ('Ac == Af is', (Ac == Af).all())"
   ]
  },
  {
   "cell_type": "markdown",
   "id": "e5657308-0edb-42e9-b335-341598691752",
   "metadata": {},
   "source": [
    "So what is the difference? The strides attribute tells us how many bytes in memory we have to stride to reach the next element *per dimension*."
   ]
  },
  {
   "cell_type": "code",
   "execution_count": 1,
   "id": "68e6a22d-9f25-42a4-ab13-67b9f872bfc6",
   "metadata": {
    "tags": []
   },
   "outputs": [
    {
     "ename": "NameError",
     "evalue": "name 'Ac' is not defined",
     "output_type": "error",
     "traceback": [
      "\u001b[0;31m---------------------------------------------------------------------------\u001b[0m",
      "\u001b[0;31mNameError\u001b[0m                                 Traceback (most recent call last)",
      "\u001b[0;32m/var/folders/gv/vsrbtv9d1vld40f603yvkwwr0000gn/T/ipykernel_71583/3720536767.py\u001b[0m in \u001b[0;36m<module>\u001b[0;34m\u001b[0m\n\u001b[0;32m----> 1\u001b[0;31m \u001b[0mprint\u001b[0m\u001b[0;34m(\u001b[0m\u001b[0;34m'Strides of Ac'\u001b[0m\u001b[0;34m,\u001b[0m \u001b[0mAc\u001b[0m\u001b[0;34m.\u001b[0m\u001b[0mstrides\u001b[0m\u001b[0;34m)\u001b[0m\u001b[0;34m\u001b[0m\u001b[0;34m\u001b[0m\u001b[0m\n\u001b[0m\u001b[1;32m      2\u001b[0m \u001b[0mprint\u001b[0m\u001b[0;34m(\u001b[0m\u001b[0;34m'Strides of Af'\u001b[0m\u001b[0;34m,\u001b[0m \u001b[0mAf\u001b[0m\u001b[0;34m.\u001b[0m\u001b[0mstrides\u001b[0m\u001b[0;34m)\u001b[0m\u001b[0;34m\u001b[0m\u001b[0;34m\u001b[0m\u001b[0m\n",
      "\u001b[0;31mNameError\u001b[0m: name 'Ac' is not defined"
     ]
    }
   ],
   "source": [
    "print('Strides of Ac', Ac.strides)\n",
    "print('Strides of Af', Af.strides)"
   ]
  },
  {
   "cell_type": "markdown",
   "id": "f1ed9952-5d19-4a36-bfe2-2edd377654b3",
   "metadata": {},
   "source": [
    "The stride makes a difference when we have to traverse through values of the array because of how the CPU loads data from memory into its registers. Operations are much faster when we can access our data with *unit stride*, that is we are accessing items that are contiguous in memory. For example, reshaping the array is very fast with C ordering (unit stride) and very slow with F ordering (N stride)"
   ]
  },
  {
   "cell_type": "code",
   "execution_count": 5,
   "id": "dc983948-ff47-4ca5-87dc-85ea1587fca7",
   "metadata": {
    "tags": []
   },
   "outputs": [
    {
     "name": "stdout",
     "output_type": "stream",
     "text": [
      "CPU times: user 8 µs, sys: 0 ns, total: 8 µs\n",
      "Wall time: 11 µs\n"
     ]
    },
    {
     "data": {
      "text/plain": [
       "array([[0.87168933],\n",
       "       [0.86088697],\n",
       "       [0.53632319],\n",
       "       ...,\n",
       "       [0.58328921],\n",
       "       [0.54419975],\n",
       "       [0.45465535]])"
      ]
     },
     "execution_count": 5,
     "metadata": {},
     "output_type": "execute_result"
    }
   ],
   "source": [
    "%%time\n",
    "Ac.reshape(N*N,1);"
   ]
  },
  {
   "cell_type": "code",
   "execution_count": 6,
   "id": "ed19432c-7411-4e7a-92c0-49cb4e596767",
   "metadata": {},
   "outputs": [
    {
     "name": "stdout",
     "output_type": "stream",
     "text": [
      "CPU times: user 1.38 s, sys: 346 ms, total: 1.73 s\n",
      "Wall time: 2.95 s\n"
     ]
    },
    {
     "data": {
      "text/plain": [
       "array([[0.87168933],\n",
       "       [0.86088697],\n",
       "       [0.53632319],\n",
       "       ...,\n",
       "       [0.58328921],\n",
       "       [0.54419975],\n",
       "       [0.45465535]])"
      ]
     },
     "execution_count": 6,
     "metadata": {},
     "output_type": "execute_result"
    }
   ],
   "source": [
    "%%time\n",
    "Af.reshape(N*N,1);"
   ]
  },
  {
   "cell_type": "markdown",
   "id": "b2b88734-2d41-40bc-8f77-22c072e24600",
   "metadata": {},
   "source": [
    "So why care about this? C ordering is the default so just don't touch it and the code will be fast, right? Not quite. It depends on how you are accessing the elements of the array. Of course numpy functions will be optimized for the default ordering, but if you are doing more complex memory accesses it can make a big difference. This is also important to keep in mind if you are interfacing to other languages."
   ]
  },
  {
   "cell_type": "code",
   "execution_count": 8,
   "id": "6ff19686-6296-4e33-ab72-9b66da45b0c2",
   "metadata": {
    "tags": []
   },
   "outputs": [
    {
     "name": "stdout",
     "output_type": "stream",
     "text": [
      "CPU times: user 180 ms, sys: 8.02 ms, total: 188 ms\n",
      "Wall time: 455 ms\n"
     ]
    }
   ],
   "source": [
    "%%time\n",
    "for i in np.arange(N):\n",
    "    B[i] = np.sum(Ac[i,:])"
   ]
  },
  {
   "cell_type": "code",
   "execution_count": 9,
   "id": "b3cbf16a-7500-4acb-8de7-b5e0e180fcf4",
   "metadata": {},
   "outputs": [
    {
     "name": "stdout",
     "output_type": "stream",
     "text": [
      "CPU times: user 1.42 s, sys: 46.1 ms, total: 1.47 s\n",
      "Wall time: 2.85 s\n"
     ]
    }
   ],
   "source": [
    "%%time\n",
    "for i in np.arange(N):\n",
    "    B[i] = np.sum(Af[i,:])"
   ]
  },
  {
   "cell_type": "code",
   "execution_count": 10,
   "id": "c15aacb8-b704-4688-a9a3-873fa6c5f02c",
   "metadata": {},
   "outputs": [
    {
     "name": "stdout",
     "output_type": "stream",
     "text": [
      "CPU times: user 1.5 s, sys: 48.7 ms, total: 1.55 s\n",
      "Wall time: 2.88 s\n"
     ]
    }
   ],
   "source": [
    "%%time\n",
    "for i in np.arange(N):\n",
    "    B[i] = np.sum(Ac[:,i])"
   ]
  },
  {
   "cell_type": "code",
   "execution_count": 11,
   "id": "41a1cd80-40c6-4770-9523-4b09ac0675ce",
   "metadata": {},
   "outputs": [
    {
     "name": "stdout",
     "output_type": "stream",
     "text": [
      "CPU times: user 182 ms, sys: 7.71 ms, total: 190 ms\n",
      "Wall time: 344 ms\n"
     ]
    }
   ],
   "source": [
    "%%time\n",
    "for i in np.arange(N):\n",
    "    B[i] = np.sum(Af[:,i])"
   ]
  },
  {
   "cell_type": "code",
   "execution_count": null,
   "id": "5b9be1ee-c436-4b3a-a6ce-e3c9786b9753",
   "metadata": {},
   "outputs": [],
   "source": []
  }
 ],
 "metadata": {
  "kernelspec": {
   "display_name": "Python 3 (ipykernel)",
   "language": "python",
   "name": "python3"
  },
  "language_info": {
   "codemirror_mode": {
    "name": "ipython",
    "version": 3
   },
   "file_extension": ".py",
   "mimetype": "text/x-python",
   "name": "python",
   "nbconvert_exporter": "python",
   "pygments_lexer": "ipython3",
   "version": "3.9.5"
  }
 },
 "nbformat": 4,
 "nbformat_minor": 5
}
