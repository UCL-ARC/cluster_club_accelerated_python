{
 "cells": [
  {
   "cell_type": "code",
   "execution_count": 54,
   "id": "069f5771-bf43-4d03-bc8d-53e483d425ca",
   "metadata": {},
   "outputs": [],
   "source": [
    "import numpy as np\n",
    "import numba\n",
    "import time"
   ]
  },
  {
   "cell_type": "code",
   "execution_count": 70,
   "id": "f682915b-16e3-45dc-823a-e677dfdbe677",
   "metadata": {},
   "outputs": [],
   "source": [
    "n = 1000000\n",
    "a = np.random.randn(n)\n",
    "b = np.random.randn(n)\n",
    "\n",
    "c = np.empty(n, dtype='float64')"
   ]
  },
  {
   "cell_type": "code",
   "execution_count": 71,
   "id": "988e1f85-3127-4863-b089-f035a16b2288",
   "metadata": {},
   "outputs": [
    {
     "name": "stdout",
     "output_type": "stream",
     "text": [
      "CPU times: user 57.8 ms, sys: 10.5 ms, total: 68.3 ms\n",
      "Wall time: 70.9 ms\n"
     ]
    }
   ],
   "source": [
    "%%time\n",
    "c = np.cos(a ** 2) + np.sin(b ** 3)"
   ]
  },
  {
   "cell_type": "code",
   "execution_count": 72,
   "id": "203f0a84-90ec-40e1-bc30-5c75afcb6e0c",
   "metadata": {},
   "outputs": [
    {
     "name": "stdout",
     "output_type": "stream",
     "text": [
      "CPU times: user 3.22 s, sys: 23 ms, total: 3.24 s\n",
      "Wall time: 3.32 s\n"
     ]
    }
   ],
   "source": [
    "%%time\n",
    "for i in range(n):\n",
    "    c[i] = np.cos(a[i] ** 2) + np.sin(b[i] ** 3)"
   ]
  },
  {
   "cell_type": "code",
   "execution_count": 77,
   "id": "c65d5ad5-4ae3-4a41-9bc2-438c9669d443",
   "metadata": {},
   "outputs": [
    {
     "name": "stdout",
     "output_type": "stream",
     "text": [
      "CPU times: user 3.08 s, sys: 24.3 ms, total: 3.11 s\n",
      "Wall time: 3.19 s\n"
     ]
    }
   ],
   "source": [
    "%%time\n",
    "def numba_fun(arr1, arr2, arr3):\n",
    "    \"\"\"The thread worker.\"\"\"\n",
    "\n",
    "    for i in range(n):\n",
    "        arr3[i] = np.cos(arr1[i] ** 2) + np.sin(arr2[i] ** 3)\n",
    "\n",
    "numba_fun(a, b, c)"
   ]
  },
  {
   "cell_type": "code",
   "execution_count": 74,
   "id": "206880ae-feda-4ce4-bbb5-f79ae0f7e963",
   "metadata": {},
   "outputs": [
    {
     "name": "stdout",
     "output_type": "stream",
     "text": [
      "CPU times: user 97.3 ms, sys: 3.57 ms, total: 101 ms\n",
      "Wall time: 106 ms\n"
     ]
    }
   ],
   "source": [
    "%%time\n",
    "@numba.njit\n",
    "def numba_fun(arr1, arr2, arr3):\n",
    "    \"\"\"The thread worker.\"\"\"\n",
    "\n",
    "    for i in numba.prange(n):\n",
    "        arr3[i] = np.cos(arr1[i] ** 2) + np.sin(arr2[i] ** 3)\n",
    "\n",
    "numba_fun(a, b, c)"
   ]
  },
  {
   "cell_type": "code",
   "execution_count": 75,
   "id": "b2b3c169-b415-478e-8a0d-c9b238fa301f",
   "metadata": {},
   "outputs": [
    {
     "name": "stdout",
     "output_type": "stream",
     "text": [
      "Time first call 108 ms\n",
      "Time after compiling 21 ms\n",
      "Time after compiling 21 ms\n",
      "Time after compiling 20 ms\n",
      "Time after compiling 20 ms\n",
      "Time after compiling 27 ms\n",
      "Time after compiling 24 ms\n",
      "Time after compiling 24 ms\n",
      "Time after compiling 26 ms\n",
      "Time after compiling 24 ms\n",
      "Time after compiling 23 ms\n"
     ]
    }
   ],
   "source": [
    "@numba.njit\n",
    "def numba_fun(arr1, arr2, arr3):\n",
    "    \"\"\"The thread worker.\"\"\"\n",
    "\n",
    "    for i in numba.prange(n):\n",
    "        arr3[i] = np.cos(arr1[i] ** 2) + np.sin(arr2[i] ** 3)\n",
    "\n",
    "t1 = time.perf_counter()\n",
    "numba_fun(a, b, c)\n",
    "t2 = time.perf_counter()\n",
    "print('Time first call',round((t2-t1)*1000), 'ms')\n",
    "\n",
    "for i in range(10):\n",
    "    t1 = time.perf_counter()\n",
    "    numba_fun(a, b, c)\n",
    "    t2 = time.perf_counter()\n",
    "    print('Time after compiling',round((t2-t1)*1000), 'ms')"
   ]
  },
  {
   "cell_type": "code",
   "execution_count": 76,
   "id": "cb6a59b6-1f0c-49ab-9e1b-ae3fc81e9e4d",
   "metadata": {},
   "outputs": [
    {
     "name": "stdout",
     "output_type": "stream",
     "text": [
      "Time first call 264 ms\n",
      "Time after compiling 8 ms\n",
      "Time after compiling 9 ms\n",
      "Time after compiling 8 ms\n",
      "Time after compiling 9 ms\n",
      "Time after compiling 9 ms\n",
      "Time after compiling 8 ms\n",
      "Time after compiling 9 ms\n",
      "Time after compiling 10 ms\n",
      "Time after compiling 10 ms\n",
      "Time after compiling 9 ms\n"
     ]
    }
   ],
   "source": [
    "@numba.njit(parallel=True)\n",
    "def numba_fun(arr1, arr2, arr3):\n",
    "    \"\"\"The thread worker.\"\"\"\n",
    "\n",
    "    for i in numba.prange(n):\n",
    "        arr3[i] = np.cos(arr1[i] ** 2) + np.sin(arr2[i] ** 3)\n",
    "\n",
    "t1 = time.perf_counter()\n",
    "numba_fun(a, b, c)\n",
    "t2 = time.perf_counter()\n",
    "print('Time first call',round((t2-t1)*1000), 'ms')\n",
    "\n",
    "for i in range(10):\n",
    "    t1 = time.perf_counter()\n",
    "    numba_fun(a, b, c)\n",
    "    t2 = time.perf_counter()\n",
    "    print('Time after compiling',round((t2-t1)*1000), 'ms')"
   ]
  },
  {
   "cell_type": "code",
   "execution_count": null,
   "id": "7dea4b54-36bd-4f16-b762-029fa199517b",
   "metadata": {},
   "outputs": [],
   "source": []
  }
 ],
 "metadata": {
  "kernelspec": {
   "display_name": "Python 3 (ipykernel)",
   "language": "python",
   "name": "python3"
  },
  "language_info": {
   "codemirror_mode": {
    "name": "ipython",
    "version": 3
   },
   "file_extension": ".py",
   "mimetype": "text/x-python",
   "name": "python",
   "nbconvert_exporter": "python",
   "pygments_lexer": "ipython3",
   "version": "3.9.5"
  }
 },
 "nbformat": 4,
 "nbformat_minor": 5
}
